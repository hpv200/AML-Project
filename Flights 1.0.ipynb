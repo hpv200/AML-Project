{
 "cells": [
  {
   "cell_type": "code",
   "execution_count": 70,
   "metadata": {
    "ExecuteTime": {
     "end_time": "2020-12-09T11:42:01.820598Z",
     "start_time": "2020-12-09T11:42:01.762764Z"
    }
   },
   "outputs": [],
   "source": [
    "import datetime, warnings, scipy \n",
    "import pandas as pd\n",
    "import numpy as np\n",
    "import seaborn as sns\n",
    "import matplotlib.pyplot as plt\n",
    "from sklearn.preprocessing import LabelEncoder, OneHotEncoder\n",
    "from datetime import date, timedelta\n",
    "\n",
    "from IPython.core.interactiveshell import InteractiveShell\n",
    "InteractiveShell.ast_node_interactivity = \"all\"\n",
    "\n",
    "pd.options.display.max_rows = 999\n",
    "pd.options.display.max_columns = 50"
   ]
  },
  {
   "cell_type": "code",
   "execution_count": 80,
   "metadata": {
    "ExecuteTime": {
     "end_time": "2020-12-09T11:48:50.370149Z",
     "start_time": "2020-12-09T11:48:50.353240Z"
    },
    "code_folding": [
     0
    ]
   },
   "outputs": [],
   "source": [
    "# Function that convert the 'HHMM' string to datetime.time\n",
    "def format_heure(chaine):\n",
    "    if pd.isnull(chaine):\n",
    "        return np.nan\n",
    "    else:\n",
    "        if chaine == 2400: chaine = 0\n",
    "        chaine = \"{0:04d}\".format(int(chaine))\n",
    "        heure = datetime.time(int(chaine[0:2]), int(chaine[2:4]))\n",
    "        return heure\n",
    "\n",
    "# Function that combines a date and time to produce a datetime.datetime\n",
    "def combine_date_heure(x):\n",
    "    if pd.isnull(x[0]) or pd.isnull(x[1]):\n",
    "        return np.nan\n",
    "    else:\n",
    "        return datetime.datetime.combine(x[0],x[1])\n",
    "\n",
    "# Function that combine two columns of the dataframe to create a datetime format\n",
    "def create_flight_time(df, col):    \n",
    "    liste = []\n",
    "    for index, cols in df[['DATE', col]].iterrows():    \n",
    "        if pd.isnull(cols[1]):\n",
    "            liste.append(np.nan)\n",
    "        elif float(cols[1]) == 2400:\n",
    "            cols[0] += datetime.timedelta(days=1)\n",
    "            cols[1] = datetime.time(0,0)\n",
    "            liste.append(combine_date_heure(cols))\n",
    "        else:\n",
    "            cols[1] = format_heure(cols[1])\n",
    "            liste.append(combine_date_heure(cols))\n",
    "    return pd.Series(liste)\n",
    "\n",
    "\n",
    "def calculate_delayed(x):\n",
    "    if x.days == 0:\n",
    "        return (x.seconds * -1)/60\n",
    "    if x.seconds > 50000:\n",
    "        return (86400 - x.seconds)/60\n",
    "    else:\n",
    "        return (x.seconds * -1)/60"
   ]
  },
  {
   "cell_type": "code",
   "execution_count": 3,
   "metadata": {
    "ExecuteTime": {
     "end_time": "2020-12-09T10:29:19.093233Z",
     "start_time": "2020-12-09T10:29:08.415318Z"
    }
   },
   "outputs": [],
   "source": [
    "df = pd.read_csv('flights_train.csv', parse_dates=False)"
   ]
  },
  {
   "cell_type": "code",
   "execution_count": 101,
   "metadata": {
    "ExecuteTime": {
     "end_time": "2020-12-09T12:27:24.952827Z",
     "start_time": "2020-12-09T12:27:21.829526Z"
    }
   },
   "outputs": [],
   "source": [
    "df2 = df.copy()"
   ]
  },
  {
   "cell_type": "code",
   "execution_count": 102,
   "metadata": {
    "ExecuteTime": {
     "end_time": "2020-12-09T12:37:51.567574Z",
     "start_time": "2020-12-09T12:27:25.962635Z"
    }
   },
   "outputs": [],
   "source": [
    "df2['DATE'] = pd.to_datetime(df2[['YEAR','MONTH', 'DAY']])\n",
    "df2['SCHEDULED_DEPARTURE'] = create_flight_time(df2, 'SCHEDULED_DEPARTURE')\n",
    "df2['DEPARTURE_TIME'] = df2['DEPARTURE_TIME'].apply(format_heure)\n",
    "df2['SCHEDULED_ARRIVAL'] = df2['SCHEDULED_ARRIVAL'].apply(format_heure)\n",
    "df2['SCHEDULED_DEPARTURE_TIME'] = df2['SCHEDULED_DEPARTURE'].dt.time\n",
    "df2['t1'] = df2['SCHEDULED_DEPARTURE_TIME'].apply(lambda x: datetime.datetime.strptime(str(x),'%H:%M:%S'))\n",
    "df2['t2'] = df2['DEPARTURE_TIME'].apply(lambda x: datetime.datetime.strptime(str(x),'%H:%M:%S'))\n",
    "df2['DELAYED_DEPARTURE'] = df2['t1'] - df2['t2']\n",
    "df2['DELAYED_DEPARTURE'] = df2['DELAYED_DEPARTURE'].apply(calculate_delayed)\n",
    "\n",
    "df2['SCHEDULED_TIME'] = df2['SCHEDULED_TIME'].astype('int')\n",
    "df2['ARRIVAL_DELAY'] = df2['ARRIVAL_DELAY'].astype('int')\n",
    "df2['TAXI_OUT'] = df2['TAXI_OUT'].astype('int')\n",
    "df2['WHEELS_OFF'] = df2['WHEELS_OFF'].astype('int')"
   ]
  },
  {
   "cell_type": "code",
   "execution_count": 103,
   "metadata": {
    "ExecuteTime": {
     "end_time": "2020-12-09T12:37:51.666978Z",
     "start_time": "2020-12-09T12:37:51.587029Z"
    }
   },
   "outputs": [
    {
     "data": {
      "text/plain": [
       "-660"
      ]
     },
     "execution_count": 103,
     "metadata": {},
     "output_type": "execute_result"
    },
    {
     "data": {
      "text/plain": [
       "-480"
      ]
     },
     "execution_count": 103,
     "metadata": {},
     "output_type": "execute_result"
    },
    {
     "data": {
      "text/plain": [
       "840"
      ]
     },
     "execution_count": 103,
     "metadata": {},
     "output_type": "execute_result"
    },
    {
     "data": {
      "text/plain": [
       "180"
      ]
     },
     "execution_count": 103,
     "metadata": {},
     "output_type": "execute_result"
    },
    {
     "data": {
      "text/plain": [
       "1500"
      ]
     },
     "execution_count": 103,
     "metadata": {},
     "output_type": "execute_result"
    },
    {
     "data": {
      "text/plain": [
       "180"
      ]
     },
     "execution_count": 103,
     "metadata": {},
     "output_type": "execute_result"
    }
   ],
   "source": [
    "# sanity check\n",
    "\n",
    "df2['DELAYED_DEPARTURE'][0] # -11\n",
    "df2['DELAYED_DEPARTURE'][1] # -8\n",
    "df2['DELAYED_DEPARTURE'][7] # 14\n",
    "df2['DELAYED_DEPARTURE'][9] # 3\n",
    "df2['DELAYED_DEPARTURE'][20] # 25\n",
    "df2['DELAYED_DEPARTURE'][36] # 3"
   ]
  },
  {
   "cell_type": "code",
   "execution_count": 104,
   "metadata": {
    "ExecuteTime": {
     "end_time": "2020-12-09T12:37:57.050526Z",
     "start_time": "2020-12-09T12:37:51.674137Z"
    }
   },
   "outputs": [],
   "source": [
    "columns_to_drop = ['YEAR', 'id', 'MONTH', 'DAY', 'FLIGHT_NUMBER', \n",
    "                   'DESTINATION_AIRPORT', 'TAIL_NUMBER', 'SCHEDULED_DEPARTURE', \n",
    "                   'DEPARTURE_TIME', 'DATE', 't1', 't2', 'SCHEDULED_ARRIVAL']\n",
    "\n",
    "df3 = df2.drop(columns_to_drop, axis = 1, inplace = False)"
   ]
  },
  {
   "cell_type": "code",
   "execution_count": 105,
   "metadata": {
    "ExecuteTime": {
     "end_time": "2020-12-09T12:37:57.930221Z",
     "start_time": "2020-12-09T12:37:57.058643Z"
    }
   },
   "outputs": [],
   "source": [
    "hours = pd.to_datetime(df3['SCHEDULED_DEPARTURE_TIME'], format='%H:%M:%S').dt.hour\n",
    "\n",
    "df3['TIME_OF_DAY'] = pd.cut(hours, \n",
    "                    bins=[0,6,12,18,24], \n",
    "                    include_lowest=True, \n",
    "                    labels=['Night','Morning','Afternoon','Evening'])"
   ]
  },
  {
   "cell_type": "code",
   "execution_count": 106,
   "metadata": {
    "ExecuteTime": {
     "end_time": "2020-12-09T12:37:57.976900Z",
     "start_time": "2020-12-09T12:37:57.936765Z"
    }
   },
   "outputs": [
    {
     "data": {
      "text/html": [
       "<div>\n",
       "<style scoped>\n",
       "    .dataframe tbody tr th:only-of-type {\n",
       "        vertical-align: middle;\n",
       "    }\n",
       "\n",
       "    .dataframe tbody tr th {\n",
       "        vertical-align: top;\n",
       "    }\n",
       "\n",
       "    .dataframe thead th {\n",
       "        text-align: right;\n",
       "    }\n",
       "</style>\n",
       "<table border=\"1\" class=\"dataframe\">\n",
       "  <thead>\n",
       "    <tr style=\"text-align: right;\">\n",
       "      <th></th>\n",
       "      <th>DAY_OF_WEEK</th>\n",
       "      <th>AIRLINE</th>\n",
       "      <th>ORIGIN_AIRPORT</th>\n",
       "      <th>TAXI_OUT</th>\n",
       "      <th>WHEELS_OFF</th>\n",
       "      <th>SCHEDULED_TIME</th>\n",
       "      <th>DISTANCE</th>\n",
       "      <th>ARRIVAL_DELAY</th>\n",
       "      <th>SCHEDULED_DEPARTURE_TIME</th>\n",
       "      <th>DELAYED_DEPARTURE</th>\n",
       "      <th>TIME_OF_DAY</th>\n",
       "    </tr>\n",
       "  </thead>\n",
       "  <tbody>\n",
       "    <tr>\n",
       "      <th>0</th>\n",
       "      <td>4</td>\n",
       "      <td>AS</td>\n",
       "      <td>ANC</td>\n",
       "      <td>21</td>\n",
       "      <td>15</td>\n",
       "      <td>205</td>\n",
       "      <td>1448</td>\n",
       "      <td>-22</td>\n",
       "      <td>00:05:00</td>\n",
       "      <td>-660</td>\n",
       "      <td>Night</td>\n",
       "    </tr>\n",
       "    <tr>\n",
       "      <th>1</th>\n",
       "      <td>4</td>\n",
       "      <td>AA</td>\n",
       "      <td>LAX</td>\n",
       "      <td>12</td>\n",
       "      <td>14</td>\n",
       "      <td>280</td>\n",
       "      <td>2330</td>\n",
       "      <td>-9</td>\n",
       "      <td>00:10:00</td>\n",
       "      <td>-480</td>\n",
       "      <td>Night</td>\n",
       "    </tr>\n",
       "    <tr>\n",
       "      <th>2</th>\n",
       "      <td>4</td>\n",
       "      <td>US</td>\n",
       "      <td>SFO</td>\n",
       "      <td>16</td>\n",
       "      <td>34</td>\n",
       "      <td>286</td>\n",
       "      <td>2296</td>\n",
       "      <td>5</td>\n",
       "      <td>00:20:00</td>\n",
       "      <td>-120</td>\n",
       "      <td>Night</td>\n",
       "    </tr>\n",
       "    <tr>\n",
       "      <th>3</th>\n",
       "      <td>4</td>\n",
       "      <td>AA</td>\n",
       "      <td>LAX</td>\n",
       "      <td>15</td>\n",
       "      <td>30</td>\n",
       "      <td>285</td>\n",
       "      <td>2342</td>\n",
       "      <td>-9</td>\n",
       "      <td>00:20:00</td>\n",
       "      <td>-300</td>\n",
       "      <td>Night</td>\n",
       "    </tr>\n",
       "    <tr>\n",
       "      <th>4</th>\n",
       "      <td>4</td>\n",
       "      <td>AS</td>\n",
       "      <td>SEA</td>\n",
       "      <td>11</td>\n",
       "      <td>35</td>\n",
       "      <td>235</td>\n",
       "      <td>1448</td>\n",
       "      <td>-21</td>\n",
       "      <td>00:25:00</td>\n",
       "      <td>-60</td>\n",
       "      <td>Night</td>\n",
       "    </tr>\n",
       "  </tbody>\n",
       "</table>\n",
       "</div>"
      ],
      "text/plain": [
       "   DAY_OF_WEEK AIRLINE ORIGIN_AIRPORT  TAXI_OUT  WHEELS_OFF  SCHEDULED_TIME  \\\n",
       "0            4      AS            ANC        21          15             205   \n",
       "1            4      AA            LAX        12          14             280   \n",
       "2            4      US            SFO        16          34             286   \n",
       "3            4      AA            LAX        15          30             285   \n",
       "4            4      AS            SEA        11          35             235   \n",
       "\n",
       "   DISTANCE  ARRIVAL_DELAY SCHEDULED_DEPARTURE_TIME  DELAYED_DEPARTURE  \\\n",
       "0      1448            -22                 00:05:00               -660   \n",
       "1      2330             -9                 00:10:00               -480   \n",
       "2      2296              5                 00:20:00               -120   \n",
       "3      2342             -9                 00:20:00               -300   \n",
       "4      1448            -21                 00:25:00                -60   \n",
       "\n",
       "  TIME_OF_DAY  \n",
       "0       Night  \n",
       "1       Night  \n",
       "2       Night  \n",
       "3       Night  \n",
       "4       Night  "
      ]
     },
     "execution_count": 106,
     "metadata": {},
     "output_type": "execute_result"
    }
   ],
   "source": [
    "df3.head()"
   ]
  },
  {
   "cell_type": "code",
   "execution_count": 107,
   "metadata": {
    "ExecuteTime": {
     "end_time": "2020-12-09T12:38:10.134552Z",
     "start_time": "2020-12-09T12:37:57.980603Z"
    }
   },
   "outputs": [],
   "source": [
    "df4 = df3.copy()\n",
    "label_encoder = LabelEncoder()\n",
    "onehot_encoder = OneHotEncoder(sparse=False)\n",
    "\n",
    "integer_encoded = label_encoder.fit_transform(df4['ORIGIN_AIRPORT'])\n",
    "integer_encoded = integer_encoded.reshape(len(integer_encoded), 1)\n",
    "origin_airport_encoded = onehot_encoder.fit_transform(integer_encoded)\n",
    "\n",
    "integer_encoded = label_encoder.fit_transform(df4['AIRLINE'])\n",
    "integer_encoded = integer_encoded.reshape(len(integer_encoded), 1)\n",
    "airline_encoded = onehot_encoder.fit_transform(integer_encoded)\n",
    "\n",
    "integer_encoded = label_encoder.fit_transform(df4['TIME_OF_DAY'])\n",
    "integer_encoded = integer_encoded.reshape(len(integer_encoded), 1)\n",
    "timeOfday_encoded = onehot_encoder.fit_transform(integer_encoded)"
   ]
  },
  {
   "cell_type": "code",
   "execution_count": null,
   "metadata": {},
   "outputs": [],
   "source": []
  }
 ],
 "metadata": {
  "kernelspec": {
   "display_name": "Python 3",
   "language": "python",
   "name": "python3"
  },
  "language_info": {
   "codemirror_mode": {
    "name": "ipython",
    "version": 3
   },
   "file_extension": ".py",
   "mimetype": "text/x-python",
   "name": "python",
   "nbconvert_exporter": "python",
   "pygments_lexer": "ipython3",
   "version": "3.8.5"
  }
 },
 "nbformat": 4,
 "nbformat_minor": 4
}
