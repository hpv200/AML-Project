{
 "cells": [
  {
   "cell_type": "code",
   "execution_count": null,
   "metadata": {},
   "outputs": [],
   "source": [
    "import pandas as pd\n",
    "import numpy as np\n",
    "from sklearn.model_selection import train_test_split\n",
    "from sklearn.linear_model import LinearRegression\n",
    "from sklearn.metrics import mean_squared_error\n",
    "from sklearn.ensemble import RandomForestRegressor\n",
    "from keras.layers import Dense, Activation\n",
    "from keras.models import Sequential\n",
    "import tensorflow as tf\n",
    "import keras\n",
    "from keras.regularizers import l2\n",
    "from tensorflow.keras import regularizers"
   ]
  },
  {
   "cell_type": "code",
   "execution_count": null,
   "metadata": {},
   "outputs": [],
   "source": [
    "flights_test = pd.read_csv('flights_test.csv')\n",
    "flights_train = pd.read_csv('flights_train.csv') #extract the zip file first"
   ]
  },
  {
   "cell_type": "code",
   "execution_count": null,
   "metadata": {},
   "outputs": [],
   "source": [
    "flights_train = flights_train.drop(columns = ['Unnamed: 0'])\n",
    "flights_test = flights_test.drop(columns = ['Unnamed: 0'])"
   ]
  },
  {
   "cell_type": "markdown",
   "metadata": {},
   "source": [
    "# Linear Regression (baseline)"
   ]
  },
  {
   "cell_type": "code",
   "execution_count": null,
   "metadata": {},
   "outputs": [],
   "source": [
    "MSE_arr_test = []\n",
    "MSE_arr_train = []\n",
    "r2score = []\n",
    "for x in range(10):  #Increase number of loops to test the regressor on different splits\n",
    "    df = flights_train.sample(frac=0.5, replace=True)\n",
    "    X = df\n",
    "    y = df.ARRIVAL_DELAY\n",
    "    X = X.drop(columns = ['ARRIVAL_DELAY'])\n",
    "    X_train, X_test, y_train, y_test = train_test_split(X, y, test_size=0.33, random_state = 42)\n",
    "    \n",
    "    reg = LinearRegression()\n",
    "    reg = reg.fit(X_train, y_train)\n",
    "    \n",
    "    MSE_arr_test.append(mean_squared_error(reg.predict(X_test), y_test))\n",
    "    MSE_arr_train.append(mean_squared_error(reg.predict(X_train), y_train))\n",
    "    r2score.append(reg.score(X_test, y_test))\n",
    "    \n",
    "    print(x)"
   ]
  },
  {
   "cell_type": "code",
   "execution_count": null,
   "metadata": {},
   "outputs": [],
   "source": [
    "print(\"Average train MSE of Linear Regression: \", np.mean(MSE_arr_train)) #Not linear data\n",
    "print(\"Average test MSE of Linear Regression: \", np.mean(MSE_arr_test)) #Not linear data\n",
    "print(\"Average R2 score of Linear Regression: \", np.mean(r2score)) #Not linear data"
   ]
  },
  {
   "cell_type": "markdown",
   "metadata": {},
   "source": [
    "# Random Forest Regressor"
   ]
  },
  {
   "cell_type": "code",
   "execution_count": null,
   "metadata": {},
   "outputs": [],
   "source": [
    "MSE_arr_test = []\n",
    "MSE_arr_train = []\n",
    "r2score = []\n",
    "\n",
    "for x in range(10):  #Increase number of loops to test the regressor on different splits\n",
    "    df = flights_train.sample(frac=0.1, replace=True)\n",
    "    X = df\n",
    "    y = df.ARRIVAL_DELAY\n",
    "    X = X.drop(columns = ['ARRIVAL_DELAY'])\n",
    "    X_train, X_test, y_train, y_test = train_test_split(X, y, test_size=0.33, random_state = 42)\n",
    "    \n",
    "    reg = RandomForestRegressor(n_estimators=30, max_depth = 10, min_samples_split = 7, random_state=0, n_jobs = -1)\n",
    "    reg = reg.fit(X_train, y_train)\n",
    "    \n",
    "    MSE_arr_test.append(mean_squared_error(reg.predict(X_test), y_test))\n",
    "    MSE_arr_train.append(mean_squared_error(reg.predict(X_train), y_train))\n",
    "    r2score.append(reg.score(X_test, y_test))\n",
    "    \n",
    "    print(x)"
   ]
  },
  {
   "cell_type": "code",
   "execution_count": null,
   "metadata": {},
   "outputs": [],
   "source": [
    "print(\"Average train MSE of Linear Regression: \", np.mean(MSE_arr_train))\n",
    "print(\"Average test MSE of Linear Regression: \", np.mean(MSE_arr_test))\n",
    "print(\"Average R2 score of Linear Regression: \", np.mean(r2score))"
   ]
  },
  {
   "cell_type": "markdown",
   "metadata": {},
   "source": [
    "### Random Forest Prediction"
   ]
  },
  {
   "cell_type": "code",
   "execution_count": null,
   "metadata": {},
   "outputs": [],
   "source": [
    "res = reg.predict(flights_test)\n",
    "res"
   ]
  },
  {
   "cell_type": "code",
   "execution_count": null,
   "metadata": {},
   "outputs": [],
   "source": [
    "pd.Series(res.reshape((514384))).to_csv('answer_sheet_forest_best.csv')"
   ]
  },
  {
   "cell_type": "markdown",
   "metadata": {},
   "source": [
    "# Neural Network"
   ]
  },
  {
   "cell_type": "code",
   "execution_count": null,
   "metadata": {},
   "outputs": [],
   "source": [
    "df = flights_train.sample(frac=0.25, replace=True, random_state = 1)\n",
    "X = df\n",
    "y = df.ARRIVAL_DELAY\n",
    "X = X.drop(columns = ['ARRIVAL_DELAY'])\n",
    "X_train, X_test, y_train, y_test = train_test_split(X, y, test_size=0.2, random_state = 42)"
   ]
  },
  {
   "cell_type": "code",
   "execution_count": null,
   "metadata": {},
   "outputs": [],
   "source": [
    "model = Sequential()\n",
    "\n",
    "model.add(Dense(32, kernel_regularizer=regularizers.l1_l2(l1=1e-5, l2=1e-4),activity_regularizer=regularizers.l2(1e-5), activation = 'relu', use_bias=True, bias_initializer='zeros', input_dim = 341))\n",
    "\n",
    "model.add(Dense(units = 32, kernel_regularizer=regularizers.l1_l2(l1=1e-5, l2=1e-4),activity_regularizer=regularizers.l2(1e-5), activation = 'relu', use_bias=True, bias_initializer='zeros'))\n",
    "\n",
    "model.add(Dense(units = 32, kernel_regularizer=regularizers.l1_l2(l1=1e-5, l2=1e-4),activity_regularizer=regularizers.l2(1e-5), activation = 'relu', use_bias=True, bias_initializer='zeros'))\n",
    "\n",
    "model.add(Dense(units = 32, kernel_regularizer=regularizers.l1_l2(l1=1e-5, l2=1e-4),activity_regularizer=regularizers.l2(1e-5), activation = 'relu', use_bias=True, bias_initializer='zeros'))\n",
    "\n",
    "model.add(Dense(units = 32, kernel_regularizer=regularizers.l1_l2(l1=1e-5, l2=1e-4),activity_regularizer=regularizers.l2(1e-5), activation = 'relu', use_bias=True, bias_initializer='zeros'))\n",
    "\n",
    "model.add(Dense(units = 32, kernel_regularizer=regularizers.l1_l2(l1=1e-5, l2=1e-4),activity_regularizer=regularizers.l2(1e-5), activation = 'relu', use_bias=True, bias_initializer='zeros'))\n",
    "\n",
    "model.add(Dense(units = 32, kernel_regularizer=regularizers.l1_l2(l1=1e-5, l2=1e-4),activity_regularizer=regularizers.l2(1e-5), activation = 'relu', use_bias=True, bias_initializer='zeros'))\n",
    "\n",
    "model.add(Dense(units = 1))"
   ]
  },
  {
   "cell_type": "code",
   "execution_count": null,
   "metadata": {},
   "outputs": [],
   "source": [
    "model.compile(optimizer = 'adam', loss = 'mean_squared_error')\n",
    "\n",
    "model.fit(x = X_train, y= y_train, epochs = 500, batch_size=2500) #Use GPU to train faster"
   ]
  },
  {
   "cell_type": "code",
   "execution_count": null,
   "metadata": {},
   "outputs": [],
   "source": [
    "mean_squared_error(model.predict(X_test), y_test)"
   ]
  },
  {
   "cell_type": "markdown",
   "metadata": {},
   "source": [
    "###  Neural Network Predictions"
   ]
  },
  {
   "cell_type": "code",
   "execution_count": null,
   "metadata": {},
   "outputs": [],
   "source": [
    "res = reg.predict(flights_test)\n",
    "res"
   ]
  },
  {
   "cell_type": "code",
   "execution_count": null,
   "metadata": {},
   "outputs": [],
   "source": [
    "pd.Series(res.reshape((514384))).to_csv('answer_sheet_NN_best.csv')"
   ]
  }
 ],
 "metadata": {
  "kernelspec": {
   "display_name": "Python 3",
   "language": "python",
   "name": "python3"
  },
  "language_info": {
   "codemirror_mode": {
    "name": "ipython",
    "version": 3
   },
   "file_extension": ".py",
   "mimetype": "text/x-python",
   "name": "python",
   "nbconvert_exporter": "python",
   "pygments_lexer": "ipython3",
   "version": "3.7.6"
  }
 },
 "nbformat": 4,
 "nbformat_minor": 4
}
